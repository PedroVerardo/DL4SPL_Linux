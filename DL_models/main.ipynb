{
 "cells": [
  {
   "cell_type": "code",
   "execution_count": 1,
   "id": "720e8c51",
   "metadata": {},
   "outputs": [],
   "source": [
    "from modelCreation import GridSearch"
   ]
  },
  {
   "cell_type": "code",
   "execution_count": null,
   "id": "dc86d721",
   "metadata": {},
   "outputs": [],
   "source": [
    "grid = GridSearch()\n",
    "grid.generate_random_model_strings()\n",
    "try:\n",
    "    grid.load_save_file(\"savedBenchmarksInference/results.pkl\")\n",
    "except:\n",
    "    print(\"não possui save\")\n",
    "grid.generate_all_models()\n",
    "grid.get_all_combination_results()"
   ]
  },
  {
   "cell_type": "code",
   "execution_count": null,
   "id": "0ac856b8",
   "metadata": {},
   "outputs": [],
   "source": [
    "from modelCreation import GridSearch"
   ]
  },
  {
   "cell_type": "code",
   "execution_count": null,
   "id": "de1c9e6d",
   "metadata": {},
   "outputs": [],
   "source": [
    "grid = GridSearch()\n",
    "grid.generate_random_model_strings()\n",
    "try:\n",
    "    grid.load_save_file(\"savedBenchmarksInference/results.pkl\")\n",
    "except:\n",
    "    print(\"não possui save\")\n",
    "print(len(grid.get_actual_state()))"
   ]
  },
  {
   "cell_type": "code",
   "execution_count": null,
   "id": "baeebb60",
   "metadata": {
    "scrolled": false
   },
   "outputs": [],
   "source": [
    "import pickle\n",
    "import os\n",
    "\n",
    "directory = \"savedBenchmarksInference\"\n",
    "filename = \"results.pkl\"\n",
    "filepath = os.path.join(directory, filename)\n",
    "\n",
    "with open(filepath, 'rb') as f:\n",
    "    result = pickle.load(f)\n",
    "    \n",
    "print(result)"
   ]
  },
  {
   "cell_type": "code",
   "execution_count": null,
   "id": "bbb9f9f2",
   "metadata": {},
   "outputs": [],
   "source": []
  }
 ],
 "metadata": {
  "kernelspec": {
   "display_name": "Python 3 (ipykernel)",
   "language": "python",
   "name": "python3"
  },
  "language_info": {
   "codemirror_mode": {
    "name": "ipython",
    "version": 3
   },
   "file_extension": ".py",
   "mimetype": "text/x-python",
   "name": "python",
   "nbconvert_exporter": "python",
   "pygments_lexer": "ipython3",
   "version": "3.9.7"
  }
 },
 "nbformat": 4,
 "nbformat_minor": 5
}
