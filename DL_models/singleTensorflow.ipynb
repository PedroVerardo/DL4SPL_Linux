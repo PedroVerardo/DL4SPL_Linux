{
 "cells": [
  {
   "cell_type": "code",
   "execution_count": null,
   "id": "00f43a54",
   "metadata": {},
   "outputs": [],
   "source": [
    "import tensorflow as tf\n",
    "import numpy as np\n",
    "import pandas as pd\n",
    "from sklearn.model_selection import train_test_split\n",
    "import pickle\n",
    "from tensorflow.keras.optimizers import Ftrl\n",
    "from tensorflow.keras.callbacks import TensorBoard\n",
    "import time\n",
    "import tensorflow_addons as tfa"
   ]
  },
  {
   "cell_type": "code",
   "execution_count": null,
   "id": "af47beea",
   "metadata": {},
   "outputs": [],
   "source": [
    "#Path of the linux file\n",
    "data_linux = \"\""
   ]
  },
  {
   "cell_type": "code",
   "execution_count": null,
   "id": "1e654be4",
   "metadata": {},
   "outputs": [],
   "source": [
    "def generate_train_test_samples( hdf_path: str, target_columns: list, columns_to_drop: list,test_size: float):\n",
    "        try:\n",
    "            df = pd.read_hdf(hdf_path)\n",
    "        except:\n",
    "            df = pd.read_csv(hdf_path)\n",
    "            \n",
    "        y = df[target_columns].to_numpy()\n",
    "        X = df.drop(columns= columns_to_drop).to_numpy()\n",
    "        \n",
    "        X_train , X_test , y_train , y_test = train_test_split(X, y, test_size=test_size, random_state=42)\n",
    "        X_train , X_val , y_train , y_val = train_test_split(X_train, y_train, test_size=0.1, random_state=42)\n",
    "\n",
    "\n",
    "        return (X_train, y_train, X_test, y_test,X_val,y_val)"
   ]
  },
  {
   "cell_type": "code",
   "execution_count": null,
   "id": "4121412f",
   "metadata": {},
   "outputs": [],
   "source": [
    "class SaveStatsCallback(tf.keras.callbacks.Callback):\n",
    "    def __init__(self, file_name):\n",
    "        super().__init__()\n",
    "        self.file_name = \"Logs/\"+file_name\n",
    "        self.start_time = None\n",
    "\n",
    "    def on_train_begin(self, logs=None):\n",
    "        self.start_time = time.time()\n",
    "\n",
    "    def on_epoch_end(self, epoch, logs=None):\n",
    "        logs = logs or {}\n",
    "        with open(self.file_name, 'a') as f:\n",
    "            f.write(f\"Epoch {epoch + 1}:\\n\")\n",
    "            for key, value in logs.items():\n",
    "                f.write(f\"{key}: {value}\\n\")\n",
    "\n",
    "    def on_train_end(self, logs=None):\n",
    "        total_time = time.time() - self.start_time\n",
    "        with open(self.file_name, 'a') as f:\n",
    "            f.write(f\"Total training time: {total_time} seconds\\n\")"
   ]
  },
  {
   "cell_type": "code",
   "execution_count": null,
   "id": "b6a2015a",
   "metadata": {},
   "outputs": [],
   "source": [
    "(X_train,\n",
    " y_train,\n",
    " X_test,\n",
    " y_test,\n",
    " X_validation,\n",
    " y_validation) = generate_train_test_samples(data_linux, [\"perf\"],[\"perf\", \"active_options\"], 0.2)"
   ]
  },
  {
   "cell_type": "code",
   "execution_count": null,
   "id": "14c74382",
   "metadata": {},
   "outputs": [],
   "source": [
    "X_train.shape"
   ]
  },
  {
   "cell_type": "code",
   "execution_count": null,
   "id": "e2308ada",
   "metadata": {
    "scrolled": true
   },
   "outputs": [],
   "source": [
    "model = tf.keras.Sequential([\n",
    "    tf.keras.layers.Dense(X_train.shape[1], activation=tf.keras.layers.ELU(), input_shape=(X_train.shape[1],), kernel_regularizer=tf.keras.regularizers.l2(0.01)),\n",
    "    tf.keras.layers.Dropout(0.0),\n",
    "    tf.keras.layers.Dense(X_train.shape[1], activation=tf.keras.layers.ELU(), kernel_regularizer=tf.keras.regularizers.l2(0.01)),\n",
    "    tf.keras.layers.Dropout(0.0),\n",
    "    tf.keras.layers.Dense(1)\n",
    "])"
   ]
  },
  {
   "cell_type": "code",
   "execution_count": null,
   "id": "b6b9f234",
   "metadata": {},
   "outputs": [],
   "source": [
    "adamw = tfa.optimizers.AdamW(learning_rate=0.001, weight_decay=0.01)"
   ]
  },
  {
   "cell_type": "code",
   "execution_count": null,
   "id": "b3ccd694",
   "metadata": {},
   "outputs": [],
   "source": [
    "model.compile(optimizer=\"adam\", loss=tf.keras.losses.Huber(), metrics=[tf.keras.losses.Huber(),tf.keras.metrics.MeanSquaredError(),tf.keras.metrics.MeanAbsolutePercentageError()])"
   ]
  },
  {
   "cell_type": "code",
   "execution_count": null,
   "id": "216a2816",
   "metadata": {},
   "outputs": [],
   "source": [
    "early_stopping = tf.keras.callbacks.EarlyStopping(monitor='val_loss', patience=15, restore_best_weights=True)"
   ]
  },
  {
   "cell_type": "code",
   "execution_count": null,
   "id": "362b1acf",
   "metadata": {},
   "outputs": [],
   "source": [
    "start = time.time()\n",
    "history = model.fit(X_train, y_train, epochs=500, validation_data=(X_test, y_test), callbacks=[early_stopping, SaveStatsCallback(\"result_smooth\")])\n",
    "end = time.time()"
   ]
  },
  {
   "cell_type": "code",
   "execution_count": null,
   "id": "7c9d3e3c",
   "metadata": {},
   "outputs": [],
   "source": [
    "print(end - start)"
   ]
  },
  {
   "cell_type": "code",
   "execution_count": null,
   "id": "ccfb9f1c",
   "metadata": {},
   "outputs": [],
   "source": [
    "import matplotlib.pyplot as plt"
   ]
  },
  {
   "cell_type": "code",
   "execution_count": null,
   "id": "073d22d2",
   "metadata": {},
   "outputs": [],
   "source": [
    "pred = model.predict(X_test)\n",
    "plt.plot(pred[:100], color='b')\n",
    "plt.plot(y_test[:100], color = 'r', linestyle = 'dashed')\n",
    "plt.savefig(\"tensorflow_prediction_best_model.png\", dpi=500)"
   ]
  },
  {
   "cell_type": "markdown",
   "id": "026699e0",
   "metadata": {},
   "source": [
    "## Feature Selection test"
   ]
  },
  {
   "cell_type": "code",
   "execution_count": null,
   "id": "30fee381",
   "metadata": {},
   "outputs": [],
   "source": [
    "import pandas as pd\n",
    "import os\n",
    "import tensorflow as tf\n",
    "import numpy as np\n",
    "import pandas as pd\n",
    "from sklearn.model_selection import train_test_split\n",
    "import pickle\n",
    "from tensorflow.keras.optimizers import Ftrl\n",
    "from tensorflow.keras.callbacks import TensorBoard\n",
    "import time\n",
    "rank = \"..//results//feature_importance_DT.csv\"\n",
    "pd.read_csv(rank)"
   ]
  },
  {
   "cell_type": "code",
   "execution_count": null,
   "id": "06fa5e63",
   "metadata": {},
   "outputs": [],
   "source": [
    "def generate_train_test_samples2( df: pd.DataFrame, target_columns: list, features_list: list, device: str = 'cuda',\n",
    "                                 test_size: float = 0.2):\n",
    "            \n",
    "        y = df[target_columns].to_numpy()\n",
    "        \n",
    "        X = df[features_list].to_numpy()\n",
    "        \n",
    "        X_train , X_test , y_train , y_test = train_test_split(X, y, test_size=test_size, random_state=42)\n",
    "\n",
    "        X_train , X_test , y_train , y_test = train_test_split(X, y, test_size=test_size, random_state=42)\n",
    "        X_train , X_val , y_train , y_val = train_test_split(X_train, y_train, test_size=0.1, random_state=42)\n",
    "        \n",
    "        return (X_train, y_train, X_test, y_test,X_val,y_val)"
   ]
  },
  {
   "cell_type": "code",
   "execution_count": null,
   "id": "72614c32",
   "metadata": {},
   "outputs": [],
   "source": [
    "percentages =[0.9,0.8,0.7,0.5,0.3,0.1]\n",
    "fiels = os.listdir(\"..//results//\")\n",
    "files = fiels[:-1]"
   ]
  },
  {
   "cell_type": "code",
   "execution_count": null,
   "id": "d0956be7",
   "metadata": {},
   "outputs": [],
   "source": [
    "early_stopping = tf.keras.callbacks.EarlyStopping(monitor='val_loss', patience=2, restore_best_weights=True)"
   ]
  },
  {
   "cell_type": "code",
   "execution_count": null,
   "id": "c2525617",
   "metadata": {},
   "outputs": [],
   "source": [
    "model = tf.keras.Sequential([\n",
    "    tf.keras.layers.Dense(9468, activation=tf.keras.layers.ELU(), input_shape=(9468,), kernel_regularizer=tf.keras.regularizers.l2(0.01)),\n",
    "    tf.keras.layers.Dropout(0.0),\n",
    "    tf.keras.layers.Dense(9468, activation=tf.keras.layers.ELU(), kernel_regularizer=tf.keras.regularizers.l2(0.01)),\n",
    "    tf.keras.layers.Dropout(0.0),\n",
    "    tf.keras.layers.Dense(1)\n",
    "])"
   ]
  },
  {
   "cell_type": "code",
   "execution_count": null,
   "id": "dae29df0",
   "metadata": {},
   "outputs": [],
   "source": [
    "model.compile(optimizer=\"adam\", loss=tf.keras.losses.Huber(), metrics=[tf.keras.losses.Huber(),tf.keras.metrics.MeanSquaredError(),tf.keras.metrics.MeanAbsolutePercentageError()])"
   ]
  },
  {
   "cell_type": "code",
   "execution_count": null,
   "id": "76a9a40c",
   "metadata": {},
   "outputs": [],
   "source": [
    "def train_model_for_all_features(files: list[str], percentages: list[int]):\n",
    "    with open(\"feature_selection_experimente_tensorflow.csv\", \"w\") as f: \n",
    "        df = pd.read_hdf(\"data/dados.h5\")\n",
    "        for file in files:\n",
    "            name = file.split(\"_\")\n",
    "            rank = pd.read_csv(f\"..//results//{file}\")\n",
    "            for percentage in percentages:\n",
    "                cut = rank['importance'].quantile(percentage)\n",
    "                top_percent = rank[rank['importance'] >= cut][\"features\"]\n",
    "                number_of_features = len(top_percent)\n",
    "                data = generate_train_test_samples2(df,[\"perf\"],top_percent)\n",
    "                start = time.time()\n",
    "                history = model.fit(data[0],data[1], epochs=500, validation_data=(data[2], data[3]), callbacks=[early_stopping])\n",
    "                end = time.time()\n",
    "                \n",
    "                f.write(f\"feature selection {file}\")\n",
    "                f.write(f\"percentage {1 - percentage}\")\n",
    "                f.write(f\"time to conclusion {end - start}\")\n",
    "                f.write(f\"final loss {history.history['loss'][-1]}\")"
   ]
  },
  {
   "cell_type": "code",
   "execution_count": null,
   "id": "b3c8bf70",
   "metadata": {},
   "outputs": [],
   "source": [
    "train_model_for_all_features(files, percentages)"
   ]
  },
  {
   "cell_type": "code",
   "execution_count": null,
   "id": "e15001bc",
   "metadata": {},
   "outputs": [],
   "source": [
    "model.compile(optimizer=\"adam\", loss=tf.keras.losses.Huber(), metrics=[tf.keras.losses.Huber(),tf.keras.metrics.MeanSquaredError(),tf.keras.metrics.MeanAbsolutePercentageError()])"
   ]
  }
 ],
 "metadata": {
  "kernelspec": {
   "display_name": "Python 3 (ipykernel)",
   "language": "python",
   "name": "python3"
  },
  "language_info": {
   "codemirror_mode": {
    "name": "ipython",
    "version": 3
   },
   "file_extension": ".py",
   "mimetype": "text/x-python",
   "name": "python",
   "nbconvert_exporter": "python",
   "pygments_lexer": "ipython3",
   "version": "3.11.7"
  }
 },
 "nbformat": 4,
 "nbformat_minor": 5
}
