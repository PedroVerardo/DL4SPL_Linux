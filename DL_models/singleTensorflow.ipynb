{
 "cells": [
  {
   "cell_type": "code",
   "execution_count": 1,
   "id": "00f43a54",
   "metadata": {},
   "outputs": [
    {
     "name": "stderr",
     "output_type": "stream",
     "text": [
      "2024-04-18 16:48:49.178027: I tensorflow/core/platform/cpu_feature_guard.cc:193] This TensorFlow binary is optimized with oneAPI Deep Neural Network Library (oneDNN) to use the following CPU instructions in performance-critical operations:  AVX2 AVX512F AVX512_VNNI FMA\n",
      "To enable them in other operations, rebuild TensorFlow with the appropriate compiler flags.\n",
      "2024-04-18 16:48:49.626372: I tensorflow/core/util/port.cc:104] oneDNN custom operations are on. You may see slightly different numerical results due to floating-point round-off errors from different computation orders. To turn them off, set the environment variable `TF_ENABLE_ONEDNN_OPTS=0`.\n",
      "/home/jupyter-jphuser/.local/lib/python3.9/site-packages/tensorflow_addons/utils/tfa_eol_msg.py:23: UserWarning: \n",
      "\n",
      "TensorFlow Addons (TFA) has ended development and introduction of new features.\n",
      "TFA has entered a minimal maintenance and release mode until a planned end of life in May 2024.\n",
      "Please modify downstream libraries to take dependencies from other repositories in our TensorFlow community (e.g. Keras, Keras-CV, and Keras-NLP). \n",
      "\n",
      "For more information see: https://github.com/tensorflow/addons/issues/2807 \n",
      "\n",
      "  warnings.warn(\n",
      "/home/jupyter-jphuser/.local/lib/python3.9/site-packages/tensorflow_addons/utils/ensure_tf_install.py:53: UserWarning: Tensorflow Addons supports using Python ops for all Tensorflow versions above or equal to 2.13.0 and strictly below 2.16.0 (nightly versions are not supported). \n",
      " The versions of TensorFlow you are currently using is 2.11.0 and is not supported. \n",
      "Some things might work, some things might not.\n",
      "If you were to encounter a bug, do not file an issue.\n",
      "If you want to make sure you're using a tested and supported configuration, either change the TensorFlow version or the TensorFlow Addons's version. \n",
      "You can find the compatibility matrix in TensorFlow Addon's readme:\n",
      "https://github.com/tensorflow/addons\n",
      "  warnings.warn(\n"
     ]
    }
   ],
   "source": [
    "import tensorflow as tf\n",
    "import numpy as np\n",
    "import pandas as pd\n",
    "from sklearn.model_selection import train_test_split\n",
    "import pickle\n",
    "from tensorflow.keras.optimizers import Ftrl\n",
    "from tensorflow.keras.callbacks import TensorBoard\n",
    "import time\n",
    "import tensorflow_addons as tfa"
   ]
  },
  {
   "cell_type": "code",
   "execution_count": 2,
   "id": "1e654be4",
   "metadata": {},
   "outputs": [],
   "source": [
    "def generate_train_test_samples( hdf_path: str, target_columns: list, columns_to_drop: list,test_size: float):\n",
    "        try:\n",
    "            df = pd.read_hdf(hdf_path)\n",
    "        except:\n",
    "            df = pd.read_csv(hdf_path)\n",
    "            \n",
    "        y = df[target_columns].to_numpy()\n",
    "        X = df.drop(columns= columns_to_drop).to_numpy()\n",
    "        \n",
    "        X_train , X_test , y_train , y_test = train_test_split(X, y, test_size=test_size, random_state=42)\n",
    "        X_train , X_val , y_train , y_val = train_test_split(X_train, y_train, test_size=0.1, random_state=42)\n",
    "\n",
    "\n",
    "        return (X_train, y_train, X_test, y_test,X_val,y_val)"
   ]
  },
  {
   "cell_type": "code",
   "execution_count": 3,
   "id": "4121412f",
   "metadata": {},
   "outputs": [],
   "source": [
    "class SaveStatsCallback(tf.keras.callbacks.Callback):\n",
    "    def __init__(self, file_name):\n",
    "        super().__init__()\n",
    "        self.file_name = \"Logs/\"+file_name\n",
    "        self.start_time = None\n",
    "\n",
    "    def on_train_begin(self, logs=None):\n",
    "        self.start_time = time.time()\n",
    "\n",
    "    def on_epoch_end(self, epoch, logs=None):\n",
    "        logs = logs or {}\n",
    "        with open(self.file_name, 'a') as f:\n",
    "            f.write(f\"Epoch {epoch + 1}:\\n\")\n",
    "            for key, value in logs.items():\n",
    "                f.write(f\"{key}: {value}\\n\")\n",
    "\n",
    "    def on_train_end(self, logs=None):\n",
    "        total_time = time.time() - self.start_time\n",
    "        with open(self.file_name, 'a') as f:\n",
    "            f.write(f\"Total training time: {total_time} seconds\\n\")"
   ]
  },
  {
   "cell_type": "code",
   "execution_count": 10,
   "id": "b6a2015a",
   "metadata": {},
   "outputs": [],
   "source": [
    "(X_train,\n",
    " y_train,\n",
    " X_test,\n",
    " y_test,\n",
    " X_validation,\n",
    " y_validation) = generate_train_test_samples(\"data/dados.h5\", [\"perf\"],[\"perf\", \"active_options\"], 0.2)"
   ]
  },
  {
   "cell_type": "code",
   "execution_count": 11,
   "id": "14c74382",
   "metadata": {},
   "outputs": [
    {
     "data": {
      "text/plain": [
       "(66644, 9467)"
      ]
     },
     "execution_count": 11,
     "metadata": {},
     "output_type": "execute_result"
    }
   ],
   "source": [
    "X_train.shape"
   ]
  },
  {
   "cell_type": "code",
   "execution_count": 12,
   "id": "e2308ada",
   "metadata": {
    "scrolled": true
   },
   "outputs": [
    {
     "name": "stderr",
     "output_type": "stream",
     "text": [
      "2024-04-18 16:50:16.228444: I tensorflow/core/platform/cpu_feature_guard.cc:193] This TensorFlow binary is optimized with oneAPI Deep Neural Network Library (oneDNN) to use the following CPU instructions in performance-critical operations:  AVX2 AVX512F AVX512_VNNI FMA\n",
      "To enable them in other operations, rebuild TensorFlow with the appropriate compiler flags.\n",
      "2024-04-18 16:50:17.474023: I tensorflow/core/common_runtime/gpu/gpu_device.cc:1613] Created device /job:localhost/replica:0/task:0/device:GPU:0 with 22283 MB memory:  -> device: 0, name: NVIDIA GeForce RTX 3090, pci bus id: 0000:00:0a.0, compute capability: 8.6\n"
     ]
    }
   ],
   "source": [
    "model = tf.keras.Sequential([\n",
    "    tf.keras.layers.Dense(X_train.shape[1], activation=tf.keras.layers.ELU(), input_shape=(X_train.shape[1],), kernel_regularizer=tf.keras.regularizers.l2(0.01)),\n",
    "    tf.keras.layers.Dropout(0.0),\n",
    "    tf.keras.layers.Dense(X_train.shape[1], activation=tf.keras.layers.ELU(), kernel_regularizer=tf.keras.regularizers.l2(0.01)),\n",
    "    tf.keras.layers.Dropout(0.0),\n",
    "    tf.keras.layers.Dense(1)\n",
    "])"
   ]
  },
  {
   "cell_type": "code",
   "execution_count": 7,
   "id": "eae66946",
   "metadata": {},
   "outputs": [],
   "source": [
    "#optimizer = Ftrl(learning_rate=0.001, learning_rate_power=-0.5, initial_accumulator_value=0.1, l1_regularization_strength=0.1, l2_regularization_strength=0.1)"
   ]
  },
  {
   "cell_type": "code",
   "execution_count": 8,
   "id": "b6b9f234",
   "metadata": {},
   "outputs": [],
   "source": [
    "adamw = tfa.optimizers.AdamW(learning_rate=0.001, weight_decay=0.01)"
   ]
  },
  {
   "cell_type": "code",
   "execution_count": 9,
   "id": "b3ccd694",
   "metadata": {},
   "outputs": [],
   "source": [
    "model.compile(optimizer=\"adam\", loss=tf.keras.losses.Huber(), metrics=[tf.keras.losses.Huber(),tf.keras.metrics.MeanSquaredError(),tf.keras.metrics.MeanAbsolutePercentageError()])"
   ]
  },
  {
   "cell_type": "code",
   "execution_count": 10,
   "id": "216a2816",
   "metadata": {},
   "outputs": [],
   "source": [
    "early_stopping = tf.keras.callbacks.EarlyStopping(monitor='val_loss', patience=15, restore_best_weights=True)"
   ]
  },
  {
   "cell_type": "code",
   "execution_count": 11,
   "id": "362b1acf",
   "metadata": {},
   "outputs": [
    {
     "name": "stdout",
     "output_type": "stream",
     "text": [
      "Epoch 1/500\n",
      "   4/2083 [..............................] - ETA: 35s - loss: 50113920.0000 - huber_loss: 50113736.0000 - mean_squared_error: 5994516993540096.0000 - mean_absolute_percentage_error: 99.9969    WARNING:tensorflow:Callback method `on_train_batch_end` is slow compared to the batch time (batch time: 0.0057s vs `on_train_batch_end` time: 0.0109s). Check your callbacks.\n",
      "  10/2083 [..............................] - ETA: 35s - loss: 52553004.0000 - huber_loss: 52552820.0000 - mean_squared_error: 7823522374090752.0000 - mean_absolute_percentage_error: 99.9696"
     ]
    },
    {
     "name": "stderr",
     "output_type": "stream",
     "text": [
      "2024-04-16 17:55:10.082025: I tensorflow/compiler/xla/stream_executor/cuda/cuda_blas.cc:630] TensorFloat-32 will be used for the matrix multiplication. This will only be logged once.\n"
     ]
    },
    {
     "name": "stdout",
     "output_type": "stream",
     "text": [
      "2083/2083 [==============================] - 42s 20ms/step - loss: 20595724.0000 - huber_loss: 20564372.0000 - mean_squared_error: 4638471801012224.0000 - mean_absolute_percentage_error: 23.5898 - val_loss: 16584132.0000 - val_huber_loss: 16522180.0000 - val_mean_squared_error: 3742354791989248.0000 - val_mean_absolute_percentage_error: 19.5483\n",
      "Epoch 2/500\n",
      "2083/2083 [==============================] - 38s 18ms/step - loss: 15502146.0000 - huber_loss: 15440906.0000 - mean_squared_error: 3644360818163712.0000 - mean_absolute_percentage_error: 17.6142 - val_loss: 14954058.0000 - val_huber_loss: 14882657.0000 - val_mean_squared_error: 3383274051207168.0000 - val_mean_absolute_percentage_error: 17.2438\n",
      "Epoch 3/500\n",
      "2083/2083 [==============================] - 39s 19ms/step - loss: 14551765.0000 - huber_loss: 14484146.0000 - mean_squared_error: 3399660156747776.0000 - mean_absolute_percentage_error: 16.5344 - val_loss: 14314364.0000 - val_huber_loss: 14238298.0000 - val_mean_squared_error: 3232388628873216.0000 - val_mean_absolute_percentage_error: 16.2835\n",
      "Epoch 4/500\n",
      "2083/2083 [==============================] - 39s 19ms/step - loss: 14031711.0000 - huber_loss: 13959339.0000 - mean_squared_error: 3263655990788096.0000 - mean_absolute_percentage_error: 15.7707 - val_loss: 13876383.0000 - val_huber_loss: 13794751.0000 - val_mean_squared_error: 3118589175398400.0000 - val_mean_absolute_percentage_error: 15.4851\n",
      "Epoch 5/500\n",
      "2083/2083 [==============================] - 39s 18ms/step - loss: 13657169.0000 - huber_loss: 13581733.0000 - mean_squared_error: 3148535834869760.0000 - mean_absolute_percentage_error: 15.3781 - val_loss: 14131572.0000 - val_huber_loss: 14043318.0000 - val_mean_squared_error: 2982446765178880.0000 - val_mean_absolute_percentage_error: 17.3874\n",
      "Epoch 6/500\n",
      "2083/2083 [==============================] - 40s 19ms/step - loss: 13265887.0000 - huber_loss: 13182958.0000 - mean_squared_error: 3051245161938944.0000 - mean_absolute_percentage_error: 14.7726 - val_loss: 13484796.0000 - val_huber_loss: 13391175.0000 - val_mean_squared_error: 2896977452859392.0000 - val_mean_absolute_percentage_error: 15.7683\n",
      "Epoch 7/500\n",
      "2083/2083 [==============================] - 39s 19ms/step - loss: 12963683.0000 - huber_loss: 12876898.0000 - mean_squared_error: 2952105774022656.0000 - mean_absolute_percentage_error: 14.4752 - val_loss: 12888110.0000 - val_huber_loss: 12788314.0000 - val_mean_squared_error: 2822100603633664.0000 - val_mean_absolute_percentage_error: 14.4593\n",
      "Epoch 8/500\n",
      "2083/2083 [==============================] - 38s 18ms/step - loss: 12610730.0000 - huber_loss: 12516665.0000 - mean_squared_error: 2866819534684160.0000 - mean_absolute_percentage_error: 13.9523 - val_loss: 12722446.0000 - val_huber_loss: 12617967.0000 - val_mean_squared_error: 2725265197236224.0000 - val_mean_absolute_percentage_error: 14.4250\n",
      "Epoch 9/500\n",
      "2083/2083 [==============================] - 38s 18ms/step - loss: 12297145.0000 - huber_loss: 12195315.0000 - mean_squared_error: 2780331778244608.0000 - mean_absolute_percentage_error: 13.5188 - val_loss: 12485244.0000 - val_huber_loss: 12375138.0000 - val_mean_squared_error: 2671435298373632.0000 - val_mean_absolute_percentage_error: 14.1372\n",
      "Epoch 10/500\n",
      "2083/2083 [==============================] - 38s 18ms/step - loss: 12090618.0000 - huber_loss: 11986340.0000 - mean_squared_error: 2708969017573376.0000 - mean_absolute_percentage_error: 13.3628 - val_loss: 12664333.0000 - val_huber_loss: 12549852.0000 - val_mean_squared_error: 2567596679364608.0000 - val_mean_absolute_percentage_error: 15.3340\n",
      "Epoch 11/500\n",
      "2083/2083 [==============================] - 39s 19ms/step - loss: 11753455.0000 - huber_loss: 11641645.0000 - mean_squared_error: 2626831526133760.0000 - mean_absolute_percentage_error: 12.9121 - val_loss: 12371232.0000 - val_huber_loss: 12252169.0000 - val_mean_squared_error: 2475045771280384.0000 - val_mean_absolute_percentage_error: 14.8487\n",
      "Epoch 12/500\n",
      "2083/2083 [==============================] - 40s 19ms/step - loss: 11413285.0000 - huber_loss: 11296548.0000 - mean_squared_error: 2528894460624896.0000 - mean_absolute_percentage_error: 12.5691 - val_loss: 11880747.0000 - val_huber_loss: 11757574.0000 - val_mean_squared_error: 2392845197508608.0000 - val_mean_absolute_percentage_error: 14.0036\n",
      "Epoch 13/500\n",
      "2083/2083 [==============================] - 39s 19ms/step - loss: 10967607.0000 - huber_loss: 10845974.0000 - mean_squared_error: 2417126258245632.0000 - mean_absolute_percentage_error: 11.9416 - val_loss: 11381506.0000 - val_huber_loss: 11254187.0000 - val_mean_squared_error: 2349584407855104.0000 - val_mean_absolute_percentage_error: 12.7208\n",
      "Epoch 14/500\n",
      "2083/2083 [==============================] - 39s 19ms/step - loss: 10521472.0000 - huber_loss: 10395848.0000 - mean_squared_error: 2301427355484160.0000 - mean_absolute_percentage_error: 11.3465 - val_loss: 10941793.0000 - val_huber_loss: 10810646.0000 - val_mean_squared_error: 2197326743470080.0000 - val_mean_absolute_percentage_error: 12.3765\n",
      "Epoch 15/500\n",
      "2083/2083 [==============================] - 38s 18ms/step - loss: 9993002.0000 - huber_loss: 9864700.0000 - mean_squared_error: 2170026186506240.0000 - mean_absolute_percentage_error: 10.5969 - val_loss: 10802090.0000 - val_huber_loss: 10668038.0000 - val_mean_squared_error: 2058788278370304.0000 - val_mean_absolute_percentage_error: 13.3785\n",
      "Epoch 16/500\n",
      "2083/2083 [==============================] - 39s 19ms/step - loss: 9613777.0000 - huber_loss: 9479508.0000 - mean_squared_error: 2040954097762304.0000 - mean_absolute_percentage_error: 10.3186 - val_loss: 10218101.0000 - val_huber_loss: 10079344.0000 - val_mean_squared_error: 1951617972699136.0000 - val_mean_absolute_percentage_error: 11.5981\n",
      "Epoch 17/500\n",
      "2083/2083 [==============================] - 38s 18ms/step - loss: 9215383.0000 - huber_loss: 9077092.0000 - mean_squared_error: 1916973290094592.0000 - mean_absolute_percentage_error: 9.9034 - val_loss: 9957261.0000 - val_huber_loss: 9814124.0000 - val_mean_squared_error: 1837222324076544.0000 - val_mean_absolute_percentage_error: 11.5102\n",
      "Epoch 18/500\n",
      "2083/2083 [==============================] - 39s 19ms/step - loss: 8832964.0000 - huber_loss: 8693017.0000 - mean_squared_error: 1787180183715840.0000 - mean_absolute_percentage_error: 9.6241 - val_loss: 9430977.0000 - val_huber_loss: 9283633.0000 - val_mean_squared_error: 1704123971928064.0000 - val_mean_absolute_percentage_error: 10.7141\n",
      "Epoch 19/500\n",
      "2083/2083 [==============================] - 39s 19ms/step - loss: 8427760.0000 - huber_loss: 8278176.5000 - mean_squared_error: 1662732566790144.0000 - mean_absolute_percentage_error: 9.2238 - val_loss: 9195410.0000 - val_huber_loss: 9041104.0000 - val_mean_squared_error: 1654547969736704.0000 - val_mean_absolute_percentage_error: 10.5464\n",
      "Epoch 20/500\n",
      "2083/2083 [==============================] - 39s 19ms/step - loss: 8030421.0000 - huber_loss: 7874870.5000 - mean_squared_error: 1537083164327936.0000 - mean_absolute_percentage_error: 8.8887 - val_loss: 8806649.0000 - val_huber_loss: 8648227.0000 - val_mean_squared_error: 1473359539863552.0000 - val_mean_absolute_percentage_error: 10.1405\n",
      "Epoch 21/500\n",
      "2083/2083 [==============================] - 39s 19ms/step - loss: 7612343.5000 - huber_loss: 7451395.0000 - mean_squared_error: 1410928163684352.0000 - mean_absolute_percentage_error: 8.4576 - val_loss: 8936548.0000 - val_huber_loss: 8772291.0000 - val_mean_squared_error: 1341442706374656.0000 - val_mean_absolute_percentage_error: 11.1916\n",
      "Epoch 22/500\n",
      "2083/2083 [==============================] - 40s 19ms/step - loss: 7245074.0000 - huber_loss: 7078190.0000 - mean_squared_error: 1285784762056704.0000 - mean_absolute_percentage_error: 8.1716 - val_loss: 8746014.0000 - val_huber_loss: 8574611.0000 - val_mean_squared_error: 1355065671548928.0000 - val_mean_absolute_percentage_error: 10.2484\n",
      "Epoch 23/500\n",
      "2083/2083 [==============================] - 40s 19ms/step - loss: 6874598.0000 - huber_loss: 6705696.0000 - mean_squared_error: 1173216219365376.0000 - mean_absolute_percentage_error: 7.8291 - val_loss: 8450910.0000 - val_huber_loss: 8274494.0000 - val_mean_squared_error: 1252305223548928.0000 - val_mean_absolute_percentage_error: 10.2934\n"
     ]
    },
    {
     "name": "stdout",
     "output_type": "stream",
     "text": [
      "Epoch 24/500\n",
      "2083/2083 [==============================] - 39s 19ms/step - loss: 6558593.0000 - huber_loss: 6379251.0000 - mean_squared_error: 1061029593219072.0000 - mean_absolute_percentage_error: 7.6063 - val_loss: 8411003.0000 - val_huber_loss: 8227721.5000 - val_mean_squared_error: 1261731737239552.0000 - val_mean_absolute_percentage_error: 9.8607\n",
      "Epoch 25/500\n",
      "2083/2083 [==============================] - 39s 19ms/step - loss: 6212617.5000 - huber_loss: 6027664.5000 - mean_squared_error: 968815840067584.0000 - mean_absolute_percentage_error: 7.2708 - val_loss: 7838090.5000 - val_huber_loss: 7650068.0000 - val_mean_squared_error: 1091437357694976.0000 - val_mean_absolute_percentage_error: 9.1826\n",
      "Epoch 26/500\n",
      "2083/2083 [==============================] - 38s 18ms/step - loss: 5970801.5000 - huber_loss: 5779636.5000 - mean_squared_error: 876267884773376.0000 - mean_absolute_percentage_error: 7.1264 - val_loss: 8207077.0000 - val_huber_loss: 8015585.5000 - val_mean_squared_error: 990836338720768.0000 - val_mean_absolute_percentage_error: 10.8403\n",
      "Epoch 27/500\n",
      "2083/2083 [==============================] - 39s 19ms/step - loss: 5651941.5000 - huber_loss: 5454984.5000 - mean_squared_error: 788533648293888.0000 - mean_absolute_percentage_error: 6.8120 - val_loss: 7615425.5000 - val_huber_loss: 7417978.0000 - val_mean_squared_error: 943720815919104.0000 - val_mean_absolute_percentage_error: 9.0857\n",
      "Epoch 28/500\n",
      "2083/2083 [==============================] - 38s 18ms/step - loss: 5379417.5000 - huber_loss: 5176468.0000 - mean_squared_error: 704110630273024.0000 - mean_absolute_percentage_error: 6.5859 - val_loss: 7846605.0000 - val_huber_loss: 7641762.5000 - val_mean_squared_error: 950225610997760.0000 - val_mean_absolute_percentage_error: 9.6485\n",
      "Epoch 29/500\n",
      "2083/2083 [==============================] - 39s 19ms/step - loss: 5141789.0000 - huber_loss: 4932747.0000 - mean_squared_error: 628188963143680.0000 - mean_absolute_percentage_error: 6.4041 - val_loss: 7648117.0000 - val_huber_loss: 7436692.0000 - val_mean_squared_error: 910050554019840.0000 - val_mean_absolute_percentage_error: 9.1177\n",
      "Epoch 30/500\n",
      "2083/2083 [==============================] - 39s 19ms/step - loss: 4901884.5000 - huber_loss: 4686727.5000 - mean_squared_error: 557028065935360.0000 - mean_absolute_percentage_error: 6.2043 - val_loss: 7312964.5000 - val_huber_loss: 7095554.0000 - val_mean_squared_error: 847528446656512.0000 - val_mean_absolute_percentage_error: 8.5886\n",
      "Epoch 31/500\n",
      "2083/2083 [==============================] - 39s 19ms/step - loss: 4681919.0000 - huber_loss: 4460571.5000 - mean_squared_error: 498983327760384.0000 - mean_absolute_percentage_error: 6.0062 - val_loss: 7755465.0000 - val_huber_loss: 7533318.5000 - val_mean_squared_error: 811379653083136.0000 - val_mean_absolute_percentage_error: 9.8270\n",
      "Epoch 32/500\n",
      "2083/2083 [==============================] - 40s 19ms/step - loss: 4469082.0000 - huber_loss: 4242046.0000 - mean_squared_error: 437808497950720.0000 - mean_absolute_percentage_error: 5.8238 - val_loss: 7365560.5000 - val_huber_loss: 7137018.0000 - val_mean_squared_error: 790276465491968.0000 - val_mean_absolute_percentage_error: 9.1114\n",
      "Epoch 33/500\n",
      "2083/2083 [==============================] - 40s 19ms/step - loss: 4294366.5000 - huber_loss: 4061870.0000 - mean_squared_error: 383470551433216.0000 - mean_absolute_percentage_error: 5.7164 - val_loss: 7220108.5000 - val_huber_loss: 6986721.5000 - val_mean_squared_error: 731972619993088.0000 - val_mean_absolute_percentage_error: 8.7809\n",
      "Epoch 34/500\n",
      "2083/2083 [==============================] - 40s 19ms/step - loss: 4094576.5000 - huber_loss: 3855321.0000 - mean_squared_error: 339531727372288.0000 - mean_absolute_percentage_error: 5.4859 - val_loss: 7066638.5000 - val_huber_loss: 6824940.5000 - val_mean_squared_error: 729391143321600.0000 - val_mean_absolute_percentage_error: 8.4264\n",
      "Epoch 35/500\n",
      "2083/2083 [==============================] - 39s 19ms/step - loss: 3984308.2500 - huber_loss: 3739036.7500 - mean_squared_error: 303000883036160.0000 - mean_absolute_percentage_error: 5.4496 - val_loss: 8090164.0000 - val_huber_loss: 7846542.5000 - val_mean_squared_error: 685871045017600.0000 - val_mean_absolute_percentage_error: 11.0353\n",
      "Epoch 36/500\n",
      "2083/2083 [==============================] - 38s 18ms/step - loss: 3795007.0000 - huber_loss: 3544763.7500 - mean_squared_error: 260342982639616.0000 - mean_absolute_percentage_error: 5.2377 - val_loss: 7221258.0000 - val_huber_loss: 6970755.0000 - val_mean_squared_error: 671432505819136.0000 - val_mean_absolute_percentage_error: 8.8524\n",
      "Epoch 37/500\n",
      "2083/2083 [==============================] - 39s 19ms/step - loss: 3661561.5000 - huber_loss: 3405504.5000 - mean_squared_error: 228684258607104.0000 - mean_absolute_percentage_error: 5.0743 - val_loss: 7201439.0000 - val_huber_loss: 6943059.0000 - val_mean_squared_error: 773963307286528.0000 - val_mean_absolute_percentage_error: 8.3971\n",
      "Epoch 38/500\n",
      "2083/2083 [==============================] - 39s 19ms/step - loss: 3482096.0000 - huber_loss: 3221854.7500 - mean_squared_error: 204303323103232.0000 - mean_absolute_percentage_error: 4.8951 - val_loss: 7343288.5000 - val_huber_loss: 7081753.5000 - val_mean_squared_error: 669124028006400.0000 - val_mean_absolute_percentage_error: 9.3152\n",
      "Epoch 39/500\n",
      "2083/2083 [==============================] - 38s 18ms/step - loss: 3434405.5000 - huber_loss: 3169104.7500 - mean_squared_error: 176494164836352.0000 - mean_absolute_percentage_error: 4.8463 - val_loss: 7262931.5000 - val_huber_loss: 6994811.5000 - val_mean_squared_error: 667714406318080.0000 - val_mean_absolute_percentage_error: 9.0629\n",
      "Epoch 40/500\n",
      "2083/2083 [==============================] - 39s 19ms/step - loss: 3291011.5000 - huber_loss: 3019684.7500 - mean_squared_error: 155156901527552.0000 - mean_absolute_percentage_error: 4.6325 - val_loss: 7411787.5000 - val_huber_loss: 7138591.0000 - val_mean_squared_error: 643066931183616.0000 - val_mean_absolute_percentage_error: 9.8888\n",
      "Epoch 41/500\n",
      "2083/2083 [==============================] - 38s 18ms/step - loss: 3194895.0000 - huber_loss: 2918411.0000 - mean_squared_error: 134833971920896.0000 - mean_absolute_percentage_error: 4.5966 - val_loss: 7193641.5000 - val_huber_loss: 6917531.5000 - val_mean_squared_error: 632582043598848.0000 - val_mean_absolute_percentage_error: 8.9506\n",
      "Epoch 42/500\n",
      "2083/2083 [==============================] - 39s 19ms/step - loss: 3077670.7500 - huber_loss: 2796612.7500 - mean_squared_error: 111668839317504.0000 - mean_absolute_percentage_error: 4.4417 - val_loss: 7216745.0000 - val_huber_loss: 6936116.5000 - val_mean_squared_error: 636553344843776.0000 - val_mean_absolute_percentage_error: 9.0975\n",
      "Epoch 43/500\n",
      "2083/2083 [==============================] - 39s 19ms/step - loss: 2979788.2500 - huber_loss: 2694671.5000 - mean_squared_error: 95382096838656.0000 - mean_absolute_percentage_error: 4.3123 - val_loss: 7222623.0000 - val_huber_loss: 6937879.5000 - val_mean_squared_error: 644546748743680.0000 - val_mean_absolute_percentage_error: 8.8785\n",
      "Epoch 44/500\n",
      "2083/2083 [==============================] - 39s 19ms/step - loss: 2870968.7500 - huber_loss: 2582524.5000 - mean_squared_error: 85624493178880.0000 - mean_absolute_percentage_error: 4.1680 - val_loss: 6997239.0000 - val_huber_loss: 6708822.5000 - val_mean_squared_error: 660844270583808.0000 - val_mean_absolute_percentage_error: 8.4162\n",
      "Epoch 45/500\n",
      "2083/2083 [==============================] - 39s 19ms/step - loss: 2799291.7500 - huber_loss: 2508101.7500 - mean_squared_error: 73962314792960.0000 - mean_absolute_percentage_error: 4.0589 - val_loss: 7208717.5000 - val_huber_loss: 6917420.0000 - val_mean_squared_error: 637279865405440.0000 - val_mean_absolute_percentage_error: 8.8101\n",
      "Epoch 46/500\n",
      "2083/2083 [==============================] - 39s 19ms/step - loss: 2713305.7500 - huber_loss: 2418504.2500 - mean_squared_error: 66778407370752.0000 - mean_absolute_percentage_error: 3.8953 - val_loss: 7089352.0000 - val_huber_loss: 6795874.5000 - val_mean_squared_error: 619776867041280.0000 - val_mean_absolute_percentage_error: 8.3178\n",
      "Epoch 47/500\n",
      "2083/2083 [==============================] - 39s 19ms/step - loss: 2659326.0000 - huber_loss: 2362071.7500 - mean_squared_error: 57936529326080.0000 - mean_absolute_percentage_error: 3.8687 - val_loss: 7035224.5000 - val_huber_loss: 6738227.5000 - val_mean_squared_error: 649346307588096.0000 - val_mean_absolute_percentage_error: 8.3429\n",
      "Epoch 48/500\n",
      "2083/2083 [==============================] - 39s 19ms/step - loss: 2621897.0000 - huber_loss: 2322886.5000 - mean_squared_error: 51880382169088.0000 - mean_absolute_percentage_error: 3.8290 - val_loss: 7163132.5000 - val_huber_loss: 6865022.0000 - val_mean_squared_error: 599077943246848.0000 - val_mean_absolute_percentage_error: 8.7393\n",
      "Epoch 49/500\n",
      "2083/2083 [==============================] - 39s 19ms/step - loss: 2575594.7500 - huber_loss: 2275185.7500 - mean_squared_error: 50007331831808.0000 - mean_absolute_percentage_error: 3.7240 - val_loss: 7089950.5000 - val_huber_loss: 6791194.5000 - val_mean_squared_error: 641632143671296.0000 - val_mean_absolute_percentage_error: 8.7907\n",
      "Epoch 50/500\n",
      "2083/2083 [==============================] - 39s 19ms/step - loss: 2551573.0000 - huber_loss: 2250164.5000 - mean_squared_error: 45121634566144.0000 - mean_absolute_percentage_error: 3.6885 - val_loss: 7182180.5000 - val_huber_loss: 6881978.0000 - val_mean_squared_error: 608493719519232.0000 - val_mean_absolute_percentage_error: 9.4031\n",
      "Epoch 51/500\n",
      "2083/2083 [==============================] - 39s 19ms/step - loss: 2481761.2500 - huber_loss: 2179489.5000 - mean_squared_error: 42005400911872.0000 - mean_absolute_percentage_error: 3.5639 - val_loss: 7059044.0000 - val_huber_loss: 6756071.0000 - val_mean_squared_error: 616649124216832.0000 - val_mean_absolute_percentage_error: 8.5442\n",
      "Epoch 52/500\n",
      "2083/2083 [==============================] - 39s 19ms/step - loss: 2369979.2500 - huber_loss: 2065404.3750 - mean_squared_error: 35984322330624.0000 - mean_absolute_percentage_error: 3.3851 - val_loss: 6935363.0000 - val_huber_loss: 6632902.5000 - val_mean_squared_error: 613125237768192.0000 - val_mean_absolute_percentage_error: 8.4197\n",
      "Epoch 53/500\n",
      "2083/2083 [==============================] - 38s 18ms/step - loss: 2359300.2500 - huber_loss: 2053956.1250 - mean_squared_error: 34126407139328.0000 - mean_absolute_percentage_error: 3.3859 - val_loss: 7252837.0000 - val_huber_loss: 6951320.5000 - val_mean_squared_error: 591562824220672.0000 - val_mean_absolute_percentage_error: 9.1836\n",
      "Epoch 54/500\n",
      "2083/2083 [==============================] - 39s 19ms/step - loss: 2366635.7500 - huber_loss: 2061023.2500 - mean_squared_error: 34220034490368.0000 - mean_absolute_percentage_error: 3.3781 - val_loss: 6937813.0000 - val_huber_loss: 6632799.0000 - val_mean_squared_error: 642788630724608.0000 - val_mean_absolute_percentage_error: 8.2615\n",
      "Epoch 55/500\n",
      "2083/2083 [==============================] - 38s 18ms/step - loss: 2322044.5000 - huber_loss: 2016423.1250 - mean_squared_error: 34309962465280.0000 - mean_absolute_percentage_error: 3.2879 - val_loss: 7212621.5000 - val_huber_loss: 6906967.5000 - val_mean_squared_error: 665178966327296.0000 - val_mean_absolute_percentage_error: 9.0806\n",
      "Epoch 56/500\n",
      "2083/2083 [==============================] - 39s 19ms/step - loss: 2325547.2500 - huber_loss: 2019178.8750 - mean_squared_error: 31467337940992.0000 - mean_absolute_percentage_error: 3.3230 - val_loss: 7246579.5000 - val_huber_loss: 6940596.0000 - val_mean_squared_error: 646069650194432.0000 - val_mean_absolute_percentage_error: 9.4267\n",
      "Epoch 57/500\n",
      "2083/2083 [==============================] - 39s 19ms/step - loss: 2254919.5000 - huber_loss: 1948171.0000 - mean_squared_error: 30411572903936.0000 - mean_absolute_percentage_error: 3.1744 - val_loss: 6958449.0000 - val_huber_loss: 6653377.5000 - val_mean_squared_error: 630332890021888.0000 - val_mean_absolute_percentage_error: 8.2553\n",
      "Epoch 58/500\n",
      "2083/2083 [==============================] - 38s 18ms/step - loss: 2234915.7500 - huber_loss: 1928528.1250 - mean_squared_error: 30497029750784.0000 - mean_absolute_percentage_error: 3.1098 - val_loss: 7136089.0000 - val_huber_loss: 6829678.0000 - val_mean_squared_error: 761277718724608.0000 - val_mean_absolute_percentage_error: 8.0441\n",
      "Epoch 59/500\n",
      "2083/2083 [==============================] - 38s 18ms/step - loss: 2218561.2500 - huber_loss: 1912012.5000 - mean_squared_error: 28980235206656.0000 - mean_absolute_percentage_error: 3.1202 - val_loss: 7041209.0000 - val_huber_loss: 6735341.5000 - val_mean_squared_error: 686131427409920.0000 - val_mean_absolute_percentage_error: 8.2195\n",
      "Epoch 60/500\n",
      "2083/2083 [==============================] - 38s 18ms/step - loss: 2231187.5000 - huber_loss: 1925093.8750 - mean_squared_error: 28862192812032.0000 - mean_absolute_percentage_error: 3.1537 - val_loss: 7020800.5000 - val_huber_loss: 6716769.0000 - val_mean_squared_error: 614881946501120.0000 - val_mean_absolute_percentage_error: 8.2441\n",
      "Epoch 61/500\n",
      "2083/2083 [==============================] - 38s 18ms/step - loss: 2160705.2500 - huber_loss: 1855062.3750 - mean_squared_error: 26777573392384.0000 - mean_absolute_percentage_error: 2.9882 - val_loss: 6958123.5000 - val_huber_loss: 6656029.5000 - val_mean_squared_error: 644632849416192.0000 - val_mean_absolute_percentage_error: 8.0546\n",
      "Epoch 62/500\n",
      "2083/2083 [==============================] - 39s 19ms/step - loss: 2106850.7500 - huber_loss: 1802026.6250 - mean_squared_error: 26547478069248.0000 - mean_absolute_percentage_error: 2.8763 - val_loss: 7051492.0000 - val_huber_loss: 6747606.0000 - val_mean_squared_error: 672053531246592.0000 - val_mean_absolute_percentage_error: 8.4414\n",
      "Epoch 63/500\n",
      "2083/2083 [==============================] - 39s 19ms/step - loss: 2106164.2500 - huber_loss: 1801200.3750 - mean_squared_error: 25755733983232.0000 - mean_absolute_percentage_error: 2.8936 - val_loss: 7102800.0000 - val_huber_loss: 6800361.5000 - val_mean_squared_error: 597631478792192.0000 - val_mean_absolute_percentage_error: 8.5544\n",
      "Epoch 64/500\n",
      "2083/2083 [==============================] - 38s 18ms/step - loss: 2127749.2500 - huber_loss: 1823378.3750 - mean_squared_error: 26451994738688.0000 - mean_absolute_percentage_error: 2.9260 - val_loss: 7093935.5000 - val_huber_loss: 6789951.5000 - val_mean_squared_error: 669517822820352.0000 - val_mean_absolute_percentage_error: 8.5576\n",
      "Epoch 65/500\n",
      "2083/2083 [==============================] - 38s 18ms/step - loss: 2134290.7500 - huber_loss: 1830751.7500 - mean_squared_error: 27253205368832.0000 - mean_absolute_percentage_error: 2.9277 - val_loss: 7123094.5000 - val_huber_loss: 6821159.5000 - val_mean_squared_error: 613635332243456.0000 - val_mean_absolute_percentage_error: 8.4652\n",
      "Epoch 66/500\n",
      "2083/2083 [==============================] - 38s 18ms/step - loss: 2042384.2500 - huber_loss: 1739416.0000 - mean_squared_error: 23926071623680.0000 - mean_absolute_percentage_error: 2.7753 - val_loss: 6947402.5000 - val_huber_loss: 6646622.5000 - val_mean_squared_error: 620110465204224.0000 - val_mean_absolute_percentage_error: 8.1178\n",
      "Epoch 67/500\n",
      "2083/2083 [==============================] - 39s 19ms/step - loss: 2076130.3750 - huber_loss: 1773126.7500 - mean_squared_error: 24988042133504.0000 - mean_absolute_percentage_error: 2.8179 - val_loss: 7005861.5000 - val_huber_loss: 6704351.5000 - val_mean_squared_error: 640842003906560.0000 - val_mean_absolute_percentage_error: 8.2308\n"
     ]
    }
   ],
   "source": [
    "start = time.time()\n",
    "history = model.fit(X_train, y_train, epochs=500, validation_data=(X_test, y_test), callbacks=[early_stopping, SaveStatsCallback(\"result_smooth\")])\n",
    "end = time.time()"
   ]
  },
  {
   "cell_type": "code",
   "execution_count": 12,
   "id": "7c9d3e3c",
   "metadata": {},
   "outputs": [
    {
     "name": "stdout",
     "output_type": "stream",
     "text": [
      "2610.4540214538574\n"
     ]
    }
   ],
   "source": [
    "print(end - start)"
   ]
  },
  {
   "cell_type": "code",
   "execution_count": 14,
   "id": "ccfb9f1c",
   "metadata": {},
   "outputs": [],
   "source": [
    "import matplotlib.pyplot as plt"
   ]
  },
  {
   "cell_type": "code",
   "execution_count": 17,
   "id": "073d22d2",
   "metadata": {},
   "outputs": [
    {
     "name": "stdout",
     "output_type": "stream",
     "text": [
      "579/579 [==============================] - 2s 3ms/step\n"
     ]
    },
    {
     "data": {
      "image/png": "[encoded data removed]",
      "text/plain": [
       "<Figure size 640x480 with 1 Axes>"
      ]
     },
     "metadata": {},
     "output_type": "display_data"
    }
   ],
   "source": [
    "pred = model.predict(X_test)\n",
    "plt.plot(pred[:100], color='b')\n",
    "plt.plot(y_test[:100], color = 'r', linestyle = 'dashed')\n",
    "plt.savefig(\"tensorflow_prediction_best_model.png\", dpi=500)"
   ]
  },
  {
   "cell_type": "markdown",
   "id": "026699e0",
   "metadata": {},
   "source": [
    "## Teste com feature selection"
   ]
  },
  {
   "cell_type": "code",
   "execution_count": 1,
   "id": "30fee381",
   "metadata": {},
   "outputs": [
    {
     "name": "stderr",
     "output_type": "stream",
     "text": [
      "2024-04-19 14:22:34.432249: I tensorflow/core/platform/cpu_feature_guard.cc:193] This TensorFlow binary is optimized with oneAPI Deep Neural Network Library (oneDNN) to use the following CPU instructions in performance-critical operations:  AVX2 AVX512F AVX512_VNNI FMA\n",
      "To enable them in other operations, rebuild TensorFlow with the appropriate compiler flags.\n",
      "2024-04-19 14:22:34.560572: I tensorflow/core/util/port.cc:104] oneDNN custom operations are on. You may see slightly different numerical results due to floating-point round-off errors from different computation orders. To turn them off, set the environment variable `TF_ENABLE_ONEDNN_OPTS=0`.\n"
     ]
    },
    {
     "data": {
      "text/html": [
       "<div>\n",
       "<style scoped>\n",
       "    .dataframe tbody tr th:only-of-type {\n",
       "        vertical-align: middle;\n",
       "    }\n",
       "\n",
       "    .dataframe tbody tr th {\n",
       "        vertical-align: top;\n",
       "    }\n",
       "\n",
       "    .dataframe thead th {\n",
       "        text-align: right;\n",
       "    }\n",
       "</style>\n",
       "<table border=\"1\" class=\"dataframe\">\n",
       "  <thead>\n",
       "    <tr style=\"text-align: right;\">\n",
       "      <th></th>\n",
       "      <th>Unnamed: 0</th>\n",
       "      <th>features</th>\n",
       "      <th>importance</th>\n",
       "    </tr>\n",
       "  </thead>\n",
       "  <tbody>\n",
       "    <tr>\n",
       "      <th>0</th>\n",
       "      <td>0</td>\n",
       "      <td>DEBUG_INFO</td>\n",
       "      <td>0.329945</td>\n",
       "    </tr>\n",
       "    <tr>\n",
       "      <th>1</th>\n",
       "      <td>1</td>\n",
       "      <td>active_options</td>\n",
       "      <td>0.194352</td>\n",
       "    </tr>\n",
       "    <tr>\n",
       "      <th>2</th>\n",
       "      <td>2</td>\n",
       "      <td>X86_NEED_RELOCS</td>\n",
       "      <td>0.113563</td>\n",
       "    </tr>\n",
       "    <tr>\n",
       "      <th>3</th>\n",
       "      <td>3</td>\n",
       "      <td>DEBUG_INFO_REDUCED</td>\n",
       "      <td>0.112219</td>\n",
       "    </tr>\n",
       "    <tr>\n",
       "      <th>4</th>\n",
       "      <td>4</td>\n",
       "      <td>DEBUG_INFO_SPLIT</td>\n",
       "      <td>0.084252</td>\n",
       "    </tr>\n",
       "    <tr>\n",
       "      <th>...</th>\n",
       "      <td>...</td>\n",
       "      <td>...</td>\n",
       "      <td>...</td>\n",
       "    </tr>\n",
       "    <tr>\n",
       "      <th>9463</th>\n",
       "      <td>9463</td>\n",
       "      <td>HVC_XEN_FRONTEND</td>\n",
       "      <td>0.000000</td>\n",
       "    </tr>\n",
       "    <tr>\n",
       "      <th>9464</th>\n",
       "      <td>9464</td>\n",
       "      <td>ATM_ENI_DEBUG</td>\n",
       "      <td>0.000000</td>\n",
       "    </tr>\n",
       "    <tr>\n",
       "      <th>9465</th>\n",
       "      <td>9465</td>\n",
       "      <td>NEED_NODE_MEMMAP_SIZE</td>\n",
       "      <td>0.000000</td>\n",
       "    </tr>\n",
       "    <tr>\n",
       "      <th>9466</th>\n",
       "      <td>9466</td>\n",
       "      <td>ARCH_FLATMEM_ENABLE</td>\n",
       "      <td>0.000000</td>\n",
       "    </tr>\n",
       "    <tr>\n",
       "      <th>9467</th>\n",
       "      <td>9467</td>\n",
       "      <td>X86_LOCAL_APIC</td>\n",
       "      <td>0.000000</td>\n",
       "    </tr>\n",
       "  </tbody>\n",
       "</table>\n",
       "<p>9468 rows × 3 columns</p>\n",
       "</div>"
      ],
      "text/plain": [
       "      Unnamed: 0               features  importance\n",
       "0              0             DEBUG_INFO    0.329945\n",
       "1              1         active_options    0.194352\n",
       "2              2        X86_NEED_RELOCS    0.113563\n",
       "3              3     DEBUG_INFO_REDUCED    0.112219\n",
       "4              4       DEBUG_INFO_SPLIT    0.084252\n",
       "...          ...                    ...         ...\n",
       "9463        9463       HVC_XEN_FRONTEND    0.000000\n",
       "9464        9464          ATM_ENI_DEBUG    0.000000\n",
       "9465        9465  NEED_NODE_MEMMAP_SIZE    0.000000\n",
       "9466        9466    ARCH_FLATMEM_ENABLE    0.000000\n",
       "9467        9467         X86_LOCAL_APIC    0.000000\n",
       "\n",
       "[9468 rows x 3 columns]"
      ]
     },
     "execution_count": 1,
     "metadata": {},
     "output_type": "execute_result"
    }
   ],
   "source": [
    "import pandas as pd\n",
    "import os\n",
    "import tensorflow as tf\n",
    "import numpy as np\n",
    "import pandas as pd\n",
    "from sklearn.model_selection import train_test_split\n",
    "import pickle\n",
    "from tensorflow.keras.optimizers import Ftrl\n",
    "from tensorflow.keras.callbacks import TensorBoard\n",
    "import time\n",
    "rank = \"..//results//feature_importance_DT.csv\"\n",
    "pd.read_csv(rank)"
   ]
  },
  {
   "cell_type": "code",
   "execution_count": 2,
   "id": "06fa5e63",
   "metadata": {},
   "outputs": [],
   "source": [
    "def generate_train_test_samples2( df: pd.DataFrame, target_columns: list, features_list: list, device: str = 'cuda',\n",
    "                                 test_size: float = 0.2):\n",
    "            \n",
    "        y = df[target_columns].to_numpy()\n",
    "        \n",
    "        X = df[features_list].to_numpy()\n",
    "        \n",
    "        X_train , X_test , y_train , y_test = train_test_split(X, y, test_size=test_size, random_state=42)\n",
    "\n",
    "        X_train , X_test , y_train , y_test = train_test_split(X, y, test_size=test_size, random_state=42)\n",
    "        X_train , X_val , y_train , y_val = train_test_split(X_train, y_train, test_size=0.1, random_state=42)\n",
    "        \n",
    "        return (X_train, y_train, X_test, y_test,X_val,y_val)"
   ]
  },
  {
   "cell_type": "code",
   "execution_count": 3,
   "id": "72614c32",
   "metadata": {},
   "outputs": [],
   "source": [
    "percentages =[0.9,0.8,0.7,0.5,0.3,0.1]\n",
    "fiels = os.listdir(\"..//results//\")\n",
    "files = fiels[:-1]"
   ]
  },
  {
   "cell_type": "code",
   "execution_count": 4,
   "id": "d0956be7",
   "metadata": {},
   "outputs": [],
   "source": [
    "early_stopping = tf.keras.callbacks.EarlyStopping(monitor='val_loss', patience=2, restore_best_weights=True)"
   ]
  },
  {
   "cell_type": "code",
   "execution_count": 5,
   "id": "c2525617",
   "metadata": {},
   "outputs": [
    {
     "name": "stderr",
     "output_type": "stream",
     "text": [
      "2024-04-19 14:22:36.431835: I tensorflow/core/platform/cpu_feature_guard.cc:193] This TensorFlow binary is optimized with oneAPI Deep Neural Network Library (oneDNN) to use the following CPU instructions in performance-critical operations:  AVX2 AVX512F AVX512_VNNI FMA\n",
      "To enable them in other operations, rebuild TensorFlow with the appropriate compiler flags.\n",
      "2024-04-19 14:22:37.058798: I tensorflow/core/common_runtime/gpu/gpu_device.cc:1613] Created device /job:localhost/replica:0/task:0/device:GPU:0 with 22283 MB memory:  -> device: 0, name: NVIDIA GeForce RTX 3090, pci bus id: 0000:00:0a.0, compute capability: 8.6\n"
     ]
    }
   ],
   "source": [
    "model = tf.keras.Sequential([\n",
    "    tf.keras.layers.Dense(9468, activation=tf.keras.layers.ELU(), input_shape=(9468,), kernel_regularizer=tf.keras.regularizers.l2(0.01)),\n",
    "    tf.keras.layers.Dropout(0.0),\n",
    "    tf.keras.layers.Dense(9468, activation=tf.keras.layers.ELU(), kernel_regularizer=tf.keras.regularizers.l2(0.01)),\n",
    "    tf.keras.layers.Dropout(0.0),\n",
    "    tf.keras.layers.Dense(1)\n",
    "])"
   ]
  },
  {
   "cell_type": "code",
   "execution_count": 6,
   "id": "dae29df0",
   "metadata": {},
   "outputs": [],
   "source": [
    "model.compile(optimizer=\"adam\", loss=tf.keras.losses.Huber(), metrics=[tf.keras.losses.Huber(),tf.keras.metrics.MeanSquaredError(),tf.keras.metrics.MeanAbsolutePercentageError()])"
   ]
  },
  {
   "cell_type": "code",
   "execution_count": 7,
   "id": "35fc4bce",
   "metadata": {},
   "outputs": [
    {
     "data": {
      "text/plain": [
       "['feature_importance_GB.csv',\n",
       " 'feature_importance_DT.csv',\n",
       " 'feature_importance_RF.csv']"
      ]
     },
     "execution_count": 7,
     "metadata": {},
     "output_type": "execute_result"
    }
   ],
   "source": [
    "files"
   ]
  },
  {
   "cell_type": "code",
   "execution_count": 8,
   "id": "76a9a40c",
   "metadata": {},
   "outputs": [],
   "source": [
    "def train_model_for_all_features(files: list[str], percentages: list[int]):\n",
    "    with open(\"feature_selection_experimente_tensorflow.csv\", \"w\") as f: \n",
    "        df = pd.read_hdf(\"data/dados.h5\")\n",
    "        for file in files:\n",
    "            name = file.split(\"_\")\n",
    "            rank = pd.read_csv(f\"..//results//{file}\")\n",
    "            for percentage in percentages:\n",
    "                cut = rank['importance'].quantile(percentage)\n",
    "                top_percent = rank[rank['importance'] >= cut][\"features\"]\n",
    "                number_of_features = len(top_percent)\n",
    "                data = generate_train_test_samples2(df,[\"perf\"],top_percent)\n",
    "                start = time.time()\n",
    "                history = model.fit(data[0],data[1], epochs=500, validation_data=(data[2], data[3]), callbacks=[early_stopping])\n",
    "                end = time.time()\n",
    "                \n",
    "                f.write(f\"feature selection {file}\")\n",
    "                f.write(f\"percentage {1 - percentage}\")\n",
    "                f.write(f\"time to conclusion {end - start}\")\n",
    "                f.write(f\"final loss {history.history['loss'][-1]}\")"
   ]
  },
  {
   "cell_type": "code",
   "execution_count": null,
   "id": "b3c8bf70",
   "metadata": {},
   "outputs": [
    {
     "name": "stdout",
     "output_type": "stream",
     "text": [
      "Epoch 1/500\n",
      "   7/2083 [..............................] - ETA: 37s - loss: 41677192.0000 - huber_loss: 41677028.0000 - mean_squared_error: 3024320817266688.0000 - mean_absolute_percentage_error: 99.9301    "
     ]
    },
    {
     "name": "stderr",
     "output_type": "stream",
     "text": [
      "2024-04-19 14:23:42.067794: I tensorflow/compiler/xla/stream_executor/cuda/cuda_blas.cc:630] TensorFloat-32 will be used for the matrix multiplication. This will only be logged once.\n"
     ]
    },
    {
     "name": "stdout",
     "output_type": "stream",
     "text": [
      "2083/2083 [==============================] - 44s 20ms/step - loss: 23147076.0000 - huber_loss: 23138574.0000 - mean_squared_error: 5113292246745088.0000 - mean_absolute_percentage_error: 26.2254 - val_loss: 20938320.0000 - val_huber_loss: 20917166.0000 - val_mean_squared_error: 4687063987257344.0000 - val_mean_absolute_percentage_error: 22.5829\n",
      "Epoch 2/500\n",
      "2083/2083 [==============================] - 39s 19ms/step - loss: 17124460.0000 - huber_loss: 17091146.0000 - mean_squared_error: 4030082435776512.0000 - mean_absolute_percentage_error: 18.1296 - val_loss: 15591685.0000 - val_huber_loss: 15530398.0000 - val_mean_squared_error: 3494872065507328.0000 - val_mean_absolute_percentage_error: 16.5181\n",
      "Epoch 3/500\n",
      "2083/2083 [==============================] - 39s 19ms/step - loss: 13333085.0000 - huber_loss: 13264233.0000 - mean_squared_error: 3094948064788480.0000 - mean_absolute_percentage_error: 13.4213 - val_loss: 12985362.0000 - val_huber_loss: 12900404.0000 - val_mean_squared_error: 2900543886327808.0000 - val_mean_absolute_percentage_error: 12.5379\n",
      "Epoch 4/500\n",
      "2083/2083 [==============================] - 39s 19ms/step - loss: 12323069.0000 - huber_loss: 12236831.0000 - mean_squared_error: 2828546007367680.0000 - mean_absolute_percentage_error: 11.9479 - val_loss: 12524853.0000 - val_huber_loss: 12425037.0000 - val_mean_squared_error: 2782145865056256.0000 - val_mean_absolute_percentage_error: 11.5211\n",
      "Epoch 5/500\n",
      "2083/2083 [==============================] - 38s 18ms/step - loss: 11678707.0000 - huber_loss: 11580385.0000 - mean_squared_error: 2656635646377984.0000 - mean_absolute_percentage_error: 11.1538 - val_loss: 12115152.0000 - val_huber_loss: 12005496.0000 - val_mean_squared_error: 2706750398529536.0000 - val_mean_absolute_percentage_error: 11.2026\n",
      "Epoch 6/500\n",
      "2083/2083 [==============================] - 38s 18ms/step - loss: 11174047.0000 - huber_loss: 11066505.0000 - mean_squared_error: 2506185626353664.0000 - mean_absolute_percentage_error: 10.6011 - val_loss: 11816077.0000 - val_huber_loss: 11697889.0000 - val_mean_squared_error: 2515386251608064.0000 - val_mean_absolute_percentage_error: 11.6307\n",
      "Epoch 7/500\n",
      "2083/2083 [==============================] - 39s 19ms/step - loss: 10823232.0000 - huber_loss: 10707082.0000 - mean_squared_error: 2394196233158656.0000 - mean_absolute_percentage_error: 10.3780 - val_loss: 11465819.0000 - val_huber_loss: 11339015.0000 - val_mean_squared_error: 2373473284390912.0000 - val_mean_absolute_percentage_error: 10.9653\n",
      "Epoch 8/500\n",
      "2083/2083 [==============================] - 38s 18ms/step - loss: 10396653.0000 - huber_loss: 10272538.0000 - mean_squared_error: 2264148649967616.0000 - mean_absolute_percentage_error: 9.9369 - val_loss: 11529483.0000 - val_huber_loss: 11395865.0000 - val_mean_squared_error: 2511103900778496.0000 - val_mean_absolute_percentage_error: 10.3895\n",
      "Epoch 9/500\n",
      "2083/2083 [==============================] - 39s 19ms/step - loss: 10071643.0000 - huber_loss: 9940697.0000 - mean_squared_error: 2160361302130688.0000 - mean_absolute_percentage_error: 9.6836 - val_loss: 11463848.0000 - val_huber_loss: 11323117.0000 - val_mean_squared_error: 2181742454636544.0000 - val_mean_absolute_percentage_error: 11.9608\n",
      "Epoch 10/500\n",
      "2083/2083 [==============================] - 39s 19ms/step - loss: 9695836.0000 - huber_loss: 9558010.0000 - mean_squared_error: 2044327660355584.0000 - mean_absolute_percentage_error: 9.3511 - val_loss: 11226529.0000 - val_huber_loss: 11082400.0000 - val_mean_squared_error: 2064429852131328.0000 - val_mean_absolute_percentage_error: 11.3716\n",
      "Epoch 11/500\n",
      "2083/2083 [==============================] - 40s 19ms/step - loss: 9354309.0000 - huber_loss: 9210496.0000 - mean_squared_error: 1921628229337088.0000 - mean_absolute_percentage_error: 9.0757 - val_loss: 10976023.0000 - val_huber_loss: 10819496.0000 - val_mean_squared_error: 1992771678240768.0000 - val_mean_absolute_percentage_error: 11.0223\n",
      "Epoch 12/500\n",
      "2083/2083 [==============================] - 39s 19ms/step - loss: 9092459.0000 - huber_loss: 8940742.0000 - mean_squared_error: 1822852974116864.0000 - mean_absolute_percentage_error: 8.8919 - val_loss: 10953479.0000 - val_huber_loss: 10789356.0000 - val_mean_squared_error: 2006402428043264.0000 - val_mean_absolute_percentage_error: 11.2521\n",
      "Epoch 13/500\n",
      "2083/2083 [==============================] - 40s 19ms/step - loss: 8789264.0000 - huber_loss: 8627109.0000 - mean_squared_error: 1712868391124992.0000 - mean_absolute_percentage_error: 8.6930 - val_loss: 10818017.0000 - val_huber_loss: 10647426.0000 - val_mean_squared_error: 2016602035847168.0000 - val_mean_absolute_percentage_error: 10.7206\n",
      "Epoch 14/500\n",
      "2083/2083 [==============================] - 39s 19ms/step - loss: 8463115.0000 - huber_loss: 8301087.5000 - mean_squared_error: 1606353604837376.0000 - mean_absolute_percentage_error: 8.4348 - val_loss: 10579151.0000 - val_huber_loss: 10400009.0000 - val_mean_squared_error: 1941622107406336.0000 - val_mean_absolute_percentage_error: 10.3121\n",
      "Epoch 15/500\n",
      "2083/2083 [==============================] - 39s 19ms/step - loss: 8137688.5000 - huber_loss: 7959515.5000 - mean_squared_error: 1483936567918592.0000 - mean_absolute_percentage_error: 8.1914 - val_loss: 10794949.0000 - val_huber_loss: 10609518.0000 - val_mean_squared_error: 1754072965185536.0000 - val_mean_absolute_percentage_error: 11.4081\n",
      "Epoch 16/500\n",
      "2083/2083 [==============================] - 40s 19ms/step - loss: 7813727.5000 - huber_loss: 7625933.5000 - mean_squared_error: 1365046504456192.0000 - mean_absolute_percentage_error: 7.9732 - val_loss: 10402697.0000 - val_huber_loss: 10203732.0000 - val_mean_squared_error: 1806256280961024.0000 - val_mean_absolute_percentage_error: 10.6028\n",
      "Epoch 17/500\n",
      "2083/2083 [==============================] - 39s 19ms/step - loss: 7498063.5000 - huber_loss: 7298744.0000 - mean_squared_error: 1255112387330048.0000 - mean_absolute_percentage_error: 7.7013 - val_loss: 11129487.0000 - val_huber_loss: 10923235.0000 - val_mean_squared_error: 1617294899806208.0000 - val_mean_absolute_percentage_error: 12.2397\n",
      "Epoch 18/500\n",
      "2083/2083 [==============================] - 40s 19ms/step - loss: 7131129.0000 - huber_loss: 6921976.5000 - mean_squared_error: 1121334625042432.0000 - mean_absolute_percentage_error: 7.4749 - val_loss: 10374661.0000 - val_huber_loss: 10156452.0000 - val_mean_squared_error: 1714618187644928.0000 - val_mean_absolute_percentage_error: 11.0611\n",
      "Epoch 19/500\n",
      "2083/2083 [==============================] - 39s 19ms/step - loss: 6840772.0000 - huber_loss: 6620792.5000 - mean_squared_error: 1017155629875200.0000 - mean_absolute_percentage_error: 7.2976 - val_loss: 10438694.0000 - val_huber_loss: 10209734.0000 - val_mean_squared_error: 1610076133523456.0000 - val_mean_absolute_percentage_error: 11.7222\n",
      "Epoch 20/500\n",
      "2083/2083 [==============================] - 40s 19ms/step - loss: 6486981.5000 - huber_loss: 6257201.5000 - mean_squared_error: 894551896096768.0000 - mean_absolute_percentage_error: 7.0231 - val_loss: 10216360.0000 - val_huber_loss: 9974296.0000 - val_mean_squared_error: 1521247083036672.0000 - val_mean_absolute_percentage_error: 11.3031\n",
      "Epoch 21/500\n",
      "2083/2083 [==============================] - 39s 19ms/step - loss: 6263319.5000 - huber_loss: 6023473.5000 - mean_squared_error: 814032332259328.0000 - mean_absolute_percentage_error: 6.9233 - val_loss: 10048274.0000 - val_huber_loss: 9798171.0000 - val_mean_squared_error: 1544240458891264.0000 - val_mean_absolute_percentage_error: 10.7200\n",
      "Epoch 22/500\n",
      "2083/2083 [==============================] - 39s 18ms/step - loss: 5927575.0000 - huber_loss: 5676643.0000 - mean_squared_error: 704357993545728.0000 - mean_absolute_percentage_error: 6.7102 - val_loss: 10049602.0000 - val_huber_loss: 9790300.0000 - val_mean_squared_error: 1677814210232320.0000 - val_mean_absolute_percentage_error: 9.8317\n",
      "Epoch 23/500\n",
      "1510/2083 [====================>.........] - ETA: 9s - loss: 5659960.5000 - huber_loss: 5403809.5000 - mean_squared_error: 645394736349184.0000 - mean_absolute_percentage_error: 6.5477"
     ]
    }
   ],
   "source": [
    "train_model_for_all_features(files, percentages)"
   ]
  },
  {
   "cell_type": "code",
   "execution_count": 38,
   "id": "0bb1c1de",
   "metadata": {},
   "outputs": [
    {
     "name": "stdout",
     "output_type": "stream",
     "text": [
      "Defaulting to user installation because normal site-packages is not writeable\n",
      "Requirement already satisfied: pandas in /opt/tljh/user/lib/python3.9/site-packages (1.5.1)\n",
      "Requirement already satisfied: tables in /home/jupyter-jphuser/.local/lib/python3.9/site-packages (3.9.2)\n",
      "Requirement already satisfied: numpy>=1.20.3 in /opt/tljh/user/lib/python3.9/site-packages (from pandas) (1.23.4)\n",
      "Requirement already satisfied: pytz>=2020.1 in /opt/tljh/user/lib/python3.9/site-packages (from pandas) (2022.6)\n",
      "Requirement already satisfied: python-dateutil>=2.8.1 in /opt/tljh/user/lib/python3.9/site-packages (from pandas) (2.8.2)\n",
      "Requirement already satisfied: packaging in /opt/tljh/user/lib/python3.9/site-packages (from tables) (21.3)\n",
      "Requirement already satisfied: blosc2>=2.3.0 in /home/jupyter-jphuser/.local/lib/python3.9/site-packages (from tables) (2.4.0)\n",
      "Requirement already satisfied: py-cpuinfo in /home/jupyter-jphuser/.local/lib/python3.9/site-packages (from tables) (9.0.0)\n",
      "Requirement already satisfied: numexpr>=2.6.2 in /home/jupyter-jphuser/.local/lib/python3.9/site-packages (from tables) (2.8.8)\n",
      "Requirement already satisfied: msgpack in /home/jupyter-jphuser/.local/lib/python3.9/site-packages (from blosc2>=2.3.0->tables) (1.0.4)\n",
      "Requirement already satisfied: ndindex>=1.4 in /home/jupyter-jphuser/.local/lib/python3.9/site-packages (from blosc2>=2.3.0->tables) (1.7)\n",
      "Requirement already satisfied: six>=1.5 in /opt/tljh/user/lib/python3.9/site-packages (from python-dateutil>=2.8.1->pandas) (1.16.0)\n",
      "Requirement already satisfied: pyparsing!=3.0.5,>=2.0.2 in /opt/tljh/user/lib/python3.9/site-packages (from packaging->tables) (3.0.9)\n"
     ]
    }
   ],
   "source": [
    "    "
   ]
  },
  {
   "cell_type": "code",
   "execution_count": null,
   "id": "6d090197",
   "metadata": {},
   "outputs": [],
   "source": []
  },
  {
   "cell_type": "code",
   "execution_count": null,
   "id": "e15001bc",
   "metadata": {},
   "outputs": [],
   "source": [
    "model.compile(optimizer=\"adam\", loss=tf.keras.losses.Huber(), metrics=[tf.keras.losses.Huber(),tf.keras.metrics.MeanSquaredError(),tf.keras.metrics.MeanAbsolutePercentageError()])"
   ]
  }
 ],
 "metadata": {
  "kernelspec": {
   "display_name": "Python 3 (ipykernel)",
   "language": "python",
   "name": "python3"
  },
  "language_info": {
   "codemirror_mode": {
    "name": "ipython",
    "version": 3
   },
   "file_extension": ".py",
   "mimetype": "text/x-python",
   "name": "python",
   "nbconvert_exporter": "python",
   "pygments_lexer": "ipython3",
   "version": "3.9.7"
  }
 },
 "nbformat": 4,
 "nbformat_minor": 5
}
